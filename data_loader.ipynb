{
 "cells": [
  {
   "cell_type": "code",
   "id": "417381ee-993b-45a6-94cd-258fcc8cc2e8",
   "metadata": {
    "jupyter": {
     "is_executing": true
    }
   },
   "source": [
    "import pandas as pd\n",
    "\n",
    "file_id = \"1i_H46ci0vi-B17v8UKIGfpQeGRpaa2uI\"\n",
    "file_url = f\"https://drive.google.com/uc?id={file_id}\"\n",
    "\n",
    "df = pd.read_csv(file_url)\n",
    "numeric_cols = ['id', 'cas_number', 'molecular_weight', 'average_mass', 'density']\n",
    "df[numeric_cols] = df[numeric_cols].apply(pd.to_numeric)\n",
    "\n",
    "datetime_cols = ['created_at', 'updated_at']\n",
    "df[datetime_cols] = df[datetime_cols].apply(pd.to_datetime,)\n",
    "\n",
    "bool_cols = ['is_endogenous', 'is_toxin']\n",
    "df[bool_cols] = df[bool_cols].apply(lambda x: x.map({'True': True, 'False': False, True: True, False: False}))\n",
    "\n",
    "df.head(10)"
   ],
   "outputs": [],
   "execution_count": null
  },
  {
   "metadata": {},
   "cell_type": "code",
   "outputs": [],
   "execution_count": null,
   "source": "",
   "id": "deebd448a3ab8d66"
  }
 ],
 "metadata": {
  "kernelspec": {
   "display_name": "Python 3 (ipykernel)",
   "language": "python",
   "name": "python3"
  },
  "language_info": {
   "codemirror_mode": {
    "name": "ipython",
    "version": 3
   },
   "file_extension": ".py",
   "mimetype": "text/x-python",
   "name": "python",
   "nbconvert_exporter": "python",
   "pygments_lexer": "ipython3",
   "version": "3.13.7"
  }
 },
 "nbformat": 4,
 "nbformat_minor": 5
}
