{
 "cells": [
  {
   "cell_type": "code",
   "id": "initial_id",
   "metadata": {
    "collapsed": true,
    "ExecuteTime": {
     "end_time": "2025-10-22T22:29:04.583004Z",
     "start_time": "2025-10-22T22:29:04.565465Z"
    }
   },
   "source": [
    "import pandas as pd\n",
    "from sqlalchemy import create_engine, text\n",
    "from sqlalchemy.orm import Session"
   ],
   "outputs": [],
   "execution_count": 77
  },
  {
   "metadata": {
    "ExecuteTime": {
     "end_time": "2025-10-22T22:29:04.667175Z",
     "start_time": "2025-10-22T22:29:04.662874Z"
    }
   },
   "cell_type": "code",
   "source": [
    "db_user = user\n",
    "db_password = password\n",
    "db_url = host\n",
    "db_port = port\n",
    "db_root_base = \"homeworks\""
   ],
   "id": "db6c074c246e6de0",
   "outputs": [],
   "execution_count": 81
  },
  {
   "metadata": {
    "ExecuteTime": {
     "end_time": "2025-10-22T22:29:04.680834Z",
     "start_time": "2025-10-22T22:29:04.673500Z"
    }
   },
   "cell_type": "code",
   "source": [
    "engine = create_engine(\n",
    "    f\"postgresql+psycopg2://{db_user}:{db_password}@{db_url}:{db_port}/{db_root_base}\",\n",
    "    pool_recycle=3600\n",
    ")"
   ],
   "id": "326abab62a08d6e4",
   "outputs": [],
   "execution_count": 82
  },
  {
   "metadata": {
    "ExecuteTime": {
     "end_time": "2025-10-22T22:29:04.690919Z",
     "start_time": "2025-10-22T22:29:04.686956Z"
    }
   },
   "cell_type": "code",
   "source": "session_homeworks = Session(bind=engine)",
   "id": "5c07acd62ea413d5",
   "outputs": [],
   "execution_count": 83
  },
  {
   "metadata": {
    "ExecuteTime": {
     "end_time": "2025-10-22T22:29:09.771508Z",
     "start_time": "2025-10-22T22:29:04.698707Z"
    }
   },
   "cell_type": "code",
   "source": [
    "file_id = \"1i_H46ci0vi-B17v8UKIGfpQeGRpaa2uI\"\n",
    "file_url = f\"https://drive.google.com/uc?id={file_id}\"\n",
    "\n",
    "df = pd.read_csv(file_url)\n",
    "\n",
    "numeric_cols = [\n",
    "    \"id\", \"pubchem_id\", \"weight\", \"melting_point\", \"boiling_point\",\n",
    "    \"lethaldose\", \"min_risk_level\", \"actor_id\", \"export\",\n",
    "    \"moldb_average_mass\", \"moldb_mono_mass\", \"logp\"\n",
    "]\n",
    "\n",
    "for col in numeric_cols:\n",
    "    df[col] = pd.to_numeric(df[col], errors=\"coerce\")\n",
    "\n",
    "datetime_cols = [\"created_at\", \"updated_at\"]\n",
    "for col in datetime_cols:\n",
    "    df[col] = pd.to_datetime(df[col], errors=\"coerce\")\n",
    "\n",
    "string_cols = [c for c in df.columns if c not in numeric_cols + datetime_cols]\n",
    "df[string_cols] = df[string_cols].astype(\"string\")\n",
    "\n",
    "df = df.head(100)"
   ],
   "id": "fdd91f4315ddb009",
   "outputs": [],
   "execution_count": 84
  },
  {
   "metadata": {
    "ExecuteTime": {
     "end_time": "2025-10-22T22:29:13.902851Z",
     "start_time": "2025-10-22T22:29:09.851285Z"
    }
   },
   "cell_type": "code",
   "source": [
    "df.to_sql(\n",
    "    name=\"vibe\",\n",
    "    con=engine,\n",
    "    schema=\"public\",\n",
    "    if_exists=\"replace\",\n",
    "    index=False,\n",
    ")"
   ],
   "id": "7a25aa83a81a9ed1",
   "outputs": [
    {
     "data": {
      "text/plain": [
       "100"
      ]
     },
     "execution_count": 85,
     "metadata": {},
     "output_type": "execute_result"
    }
   ],
   "execution_count": 85
  }
 ],
 "metadata": {
  "kernelspec": {
   "display_name": "Python 3",
   "language": "python",
   "name": "python3"
  },
  "language_info": {
   "codemirror_mode": {
    "name": "ipython",
    "version": 2
   },
   "file_extension": ".py",
   "mimetype": "text/x-python",
   "name": "python",
   "nbconvert_exporter": "python",
   "pygments_lexer": "ipython2",
   "version": "2.7.6"
  }
 },
 "nbformat": 4,
 "nbformat_minor": 5
}
